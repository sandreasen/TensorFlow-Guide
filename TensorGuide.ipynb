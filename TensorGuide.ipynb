{
 "cells": [
  {
   "cell_type": "markdown",
   "metadata": {},
   "source": [
    "# Implementing in TensorFlow"
   ]
  },
  {
   "cell_type": "markdown",
   "metadata": {},
   "source": [
    "Tensorflow is a strong tool for solving Deep Learning tasks, especially tasks that can be solved by just putting various blocks together. This is a guide that goes beyond that, and gives an introduktion to some of the most commondly used functions needed for implementing coustum made code in Tensorflow. It is especially good if you are new to Python and coding in general.\n",
    "\n",
    "This guide is based on how the solutions would be made in Numpy.\n",
    "\n",
    "Most function needed can be found in the TensorFlow API:\n",
    "\n",
    "https://www.tensorflow.org/\n",
    "\n",
    "Some functions are yet to come.\n",
    "\n",
    "For installation and complementary knowledge about how to implement Deep Learning networks in TensorFlow I can highly recommend:\n",
    "\n",
    "https://github.com/alrojo/tensorflow-tutorial\n"
   ]
  },
  {
   "cell_type": "code",
   "execution_count": 50,
   "metadata": {
    "collapsed": false
   },
   "outputs": [],
   "source": [
    "import tensorflow as tf\n",
    "import numpy as np\n",
    "from tensorflow.python.framework.ops import reset_default_graph\n",
    "sess = tf.Session() # For printing the output"
   ]
  },
  {
   "cell_type": "markdown",
   "metadata": {},
   "source": [
    "Numbers\n",
    "==="
   ]
  },
  {
   "cell_type": "markdown",
   "metadata": {},
   "source": [
    "$\\textbf{Constants}$"
   ]
  },
  {
   "cell_type": "code",
   "execution_count": 2,
   "metadata": {
    "collapsed": false
   },
   "outputs": [
    {
     "name": "stdout",
     "output_type": "stream",
     "text": [
      "5\n",
      "7.4\n"
     ]
    }
   ],
   "source": [
    "x = tf.constant(5, dtype=tf.int32) # x = 5, int\n",
    "y = tf.constant(7.4, dtype=tf.float32) # y = 7.4, float\n",
    "\n",
    "print(sess.run(x))\n",
    "print(sess.run(y))"
   ]
  },
  {
   "cell_type": "markdown",
   "metadata": {},
   "source": [
    "$\\textbf{Casting}$"
   ]
  },
  {
   "cell_type": "code",
   "execution_count": 3,
   "metadata": {
    "collapsed": false
   },
   "outputs": [
    {
     "name": "stdout",
     "output_type": "stream",
     "text": [
      "5.0\n"
     ]
    }
   ],
   "source": [
    "x = tf.to_float(x) # 5.0 = 5, float\n",
    "\n",
    "print(sess.run(x))"
   ]
  },
  {
   "cell_type": "markdown",
   "metadata": {},
   "source": [
    "$\\textbf{Arithmetric Operation}$"
   ]
  },
  {
   "cell_type": "code",
   "execution_count": 6,
   "metadata": {
    "collapsed": false
   },
   "outputs": [
    {
     "name": "stdout",
     "output_type": "stream",
     "text": [
      "12.4\n",
      "-2.4\n"
     ]
    }
   ],
   "source": [
    "x = tf.constant(5, dtype=tf.float32) # x = 5\n",
    "y = tf.constant(7.4, dtype=tf.float32) # y = 7.4\n",
    "\n",
    "z = tf.add(x,y) # 12.4 = 5 + 7\n",
    "u = tf.sub(x,y) # -2.4 = 5 - 7\n",
    "\n",
    "print(sess.run(z))\n",
    "print(sess.run(u))"
   ]
  },
  {
   "cell_type": "markdown",
   "metadata": {},
   "source": [
    "$\\textbf{Basic Math Functions}$"
   ]
  },
  {
   "cell_type": "code",
   "execution_count": 9,
   "metadata": {
    "collapsed": false
   },
   "outputs": [
    {
     "name": "stdout",
     "output_type": "stream",
     "text": [
      "-5.0\n",
      "7.0\n",
      "148.413\n"
     ]
    }
   ],
   "source": [
    "x = tf.constant(5, dtype=tf.float32) # x = 5\n",
    "y = tf.constant(7.4, dtype=tf.float32) # y = 7.4\n",
    "\n",
    "z = tf.neg(x) # -5 = negative(5)\n",
    "u = tf.round(y) # 7 = round(7.4)\n",
    "v = tf.exp(x) # 148.413 = exp(5)\n",
    "\n",
    "print(sess.run(z))\n",
    "print(sess.run(u))\n",
    "print(sess.run(v))"
   ]
  },
  {
   "cell_type": "markdown",
   "metadata": {},
   "source": [
    "Array\n",
    "==="
   ]
  },
  {
   "cell_type": "markdown",
   "metadata": {},
   "source": [
    "**Constant Arrays**"
   ]
  },
  {
   "cell_type": "code",
   "execution_count": 10,
   "metadata": {
    "collapsed": false
   },
   "outputs": [
    {
     "name": "stdout",
     "output_type": "stream",
     "text": [
      "[1 2]\n"
     ]
    }
   ],
   "source": [
    "a = tf.constant([1,2], dtype=tf.int32) # a = [1,2]\n",
    "print(sess.run(a))"
   ]
  },
  {
   "cell_type": "code",
   "execution_count": 11,
   "metadata": {
    "collapsed": false
   },
   "outputs": [
    {
     "name": "stdout",
     "output_type": "stream",
     "text": [
      "[[1 2]\n",
      " [3 4]]\n"
     ]
    }
   ],
   "source": [
    "b = tf.constant([[1,2],[3,4]], dtype=tf.int32) # b = [[1,2],[3,4]]\n",
    "print(sess.run(b))"
   ]
  },
  {
   "cell_type": "code",
   "execution_count": 12,
   "metadata": {
    "collapsed": false,
    "scrolled": true
   },
   "outputs": [
    {
     "name": "stdout",
     "output_type": "stream",
     "text": [
      "[[1 2]\n",
      " [3 4]\n",
      " [5 6]]\n"
     ]
    }
   ],
   "source": [
    "c = tf.constant([[1,2],[3,4],[5,6]], dtype=tf.int32) # c = [[1,2],[3,4],[5,6]]\n",
    "print(sess.run(c))"
   ]
  },
  {
   "cell_type": "code",
   "execution_count": 13,
   "metadata": {
    "collapsed": false
   },
   "outputs": [
    {
     "name": "stdout",
     "output_type": "stream",
     "text": [
      "[[[ 0.  0.  0.]\n",
      "  [ 0.  0.  0.]]\n",
      "\n",
      " [[ 0.  0.  0.]\n",
      "  [ 0.  0.  0.]]]\n"
     ]
    }
   ],
   "source": [
    "d = tf.zeros([2,2,3], dtype=tf.float32) # array containing only zeros of shape [2,2,3]\n",
    "print(sess.run(d))"
   ]
  },
  {
   "cell_type": "code",
   "execution_count": 14,
   "metadata": {
    "collapsed": false
   },
   "outputs": [
    {
     "name": "stdout",
     "output_type": "stream",
     "text": [
      "[[[1 1 1 1]\n",
      "  [1 1 1 1]\n",
      "  [1 1 1 1]]\n",
      "\n",
      " [[1 1 1 1]\n",
      "  [1 1 1 1]\n",
      "  [1 1 1 1]]]\n"
     ]
    }
   ],
   "source": [
    "e = tf.ones([2,3,4], dtype=tf.int32) # array containing only ones of shape [2,3,4]\n",
    "print(sess.run(e))"
   ]
  },
  {
   "cell_type": "code",
   "execution_count": 15,
   "metadata": {
    "collapsed": false
   },
   "outputs": [
    {
     "name": "stdout",
     "output_type": "stream",
     "text": [
      "[[[2 2 2 2]\n",
      "  [2 2 2 2]\n",
      "  [2 2 2 2]]\n",
      "\n",
      " [[2 2 2 2]\n",
      "  [2 2 2 2]\n",
      "  [2 2 2 2]]]\n"
     ]
    }
   ],
   "source": [
    "f = tf.fill([2,3,4], 2) # array containing only twos of shape [2,3,4]\n",
    "print(sess.run(f))"
   ]
  },
  {
   "cell_type": "markdown",
   "metadata": {},
   "source": [
    "**Get Shape**"
   ]
  },
  {
   "cell_type": "code",
   "execution_count": 20,
   "metadata": {
    "collapsed": false
   },
   "outputs": [
    {
     "name": "stdout",
     "output_type": "stream",
     "text": [
      "(2, 3, 4)\n",
      "2\n"
     ]
    }
   ],
   "source": [
    "f = tf.fill([2,3,4], 2)\n",
    "\n",
    "print(f.get_shape())\n",
    "print(f.get_shape()[0]) # the shape of a Tensor"
   ]
  },
  {
   "cell_type": "markdown",
   "metadata": {},
   "source": [
    "Random Numbers\n",
    "==="
   ]
  },
  {
   "cell_type": "code",
   "execution_count": 21,
   "metadata": {
    "collapsed": false
   },
   "outputs": [
    {
     "name": "stdout",
     "output_type": "stream",
     "text": [
      "[[-0.03874318 -1.03920794]\n",
      " [-1.1802808  -1.72704375]]\n"
     ]
    }
   ],
   "source": [
    "g = tf.random_normal([2,2], mean=0, stddev=1)\n",
    "# number from random standard normal distribution\n",
    "\n",
    "print(sess.run(g))"
   ]
  },
  {
   "cell_type": "code",
   "execution_count": 22,
   "metadata": {
    "collapsed": false
   },
   "outputs": [
    {
     "name": "stdout",
     "output_type": "stream",
     "text": [
      "[[[0 4]\n",
      "  [0 0]]\n",
      "\n",
      " [[0 2]\n",
      "  [1 0]]]\n"
     ]
    }
   ],
   "source": [
    "h = tf.random_uniform([2,2,2], minval=0, maxval=5, dtype=tf.int32) \n",
    "# random uniform distribution between [0, 5) and shape [2,2,2]\n",
    "\n",
    "print(sess.run(h))"
   ]
  },
  {
   "cell_type": "code",
   "execution_count": 23,
   "metadata": {
    "collapsed": false
   },
   "outputs": [
    {
     "name": "stdout",
     "output_type": "stream",
     "text": [
      "[[4 0]\n",
      " [3 4]]\n"
     ]
    }
   ],
   "source": [
    "h = tf.random_uniform([2,2], minval=0, maxval=5, dtype=tf.int32, seed=1234)\n",
    "# random uniform distribution between [0, 5) with seed\n",
    "\n",
    "print(sess.run(h))"
   ]
  },
  {
   "cell_type": "markdown",
   "metadata": {},
   "source": [
    "Array Indexing\n",
    "==="
   ]
  },
  {
   "cell_type": "markdown",
   "metadata": {},
   "source": [
    "This follow the Python indexing."
   ]
  },
  {
   "cell_type": "code",
   "execution_count": 24,
   "metadata": {
    "collapsed": false
   },
   "outputs": [
    {
     "name": "stdout",
     "output_type": "stream",
     "text": [
      "[[ 1  2  3  4]\n",
      " [ 5  6  7  8]\n",
      " [ 9 10 11 12]]\n"
     ]
    }
   ],
   "source": [
    "index_array = tf.constant([[1,2,3,4],[5,6,7,8],[9,10,11,12]], dtype=tf.int32)\n",
    "print(sess.run(index_array))"
   ]
  },
  {
   "cell_type": "code",
   "execution_count": 25,
   "metadata": {
    "collapsed": false
   },
   "outputs": [
    {
     "name": "stdout",
     "output_type": "stream",
     "text": [
      "[5 6 7 8]\n"
     ]
    }
   ],
   "source": [
    "print(sess.run(index_array[1,:])) # second row of the index matrix"
   ]
  },
  {
   "cell_type": "code",
   "execution_count": 26,
   "metadata": {
    "collapsed": false
   },
   "outputs": [
    {
     "name": "stdout",
     "output_type": "stream",
     "text": [
      "[ 2  6 10]\n"
     ]
    }
   ],
   "source": [
    "print(sess.run(index_array[:,1])) # second column af the index matrix"
   ]
  },
  {
   "cell_type": "code",
   "execution_count": 27,
   "metadata": {
    "collapsed": false
   },
   "outputs": [
    {
     "name": "stdout",
     "output_type": "stream",
     "text": [
      "[1 2]\n"
     ]
    }
   ],
   "source": [
    "print(sess.run(index_array[0,0:2])) # second column af the index matrix"
   ]
  },
  {
   "cell_type": "markdown",
   "metadata": {},
   "source": [
    "Working with Arrays\n",
    "==="
   ]
  },
  {
   "cell_type": "markdown",
   "metadata": {},
   "source": [
    "**Transpose**"
   ]
  },
  {
   "cell_type": "code",
   "execution_count": 31,
   "metadata": {
    "collapsed": false
   },
   "outputs": [
    {
     "name": "stdout",
     "output_type": "stream",
     "text": [
      "A\n",
      "[[1 2]\n",
      " [3 4]]\n",
      "A Transposed\n",
      "[[1 3]\n",
      " [2 4]]\n"
     ]
    }
   ],
   "source": [
    "A = tf.constant([[1,2],[3,4]], dtype=tf.int32)\n",
    "\n",
    "A_Transpose = tf.transpose(A)\n",
    "\n",
    "print(\"A\")\n",
    "print(sess.run(A))\n",
    "print(\"A Transposed\")\n",
    "print(sess.run(A_Transpose))"
   ]
  },
  {
   "cell_type": "markdown",
   "metadata": {},
   "source": [
    "**Multiply Matrices**"
   ]
  },
  {
   "cell_type": "code",
   "execution_count": 32,
   "metadata": {
    "collapsed": false
   },
   "outputs": [
    {
     "name": "stdout",
     "output_type": "stream",
     "text": [
      "[[19 22]\n",
      " [43 50]]\n"
     ]
    }
   ],
   "source": [
    "a = tf.constant([[1,2],[3,4]],dtype=tf.int32)\n",
    "b = tf.constant([[5,6],[7,8]],dtype=tf.int32)\n",
    "\n",
    "c = tf.matmul(a,b) # c = a*b\n",
    "\n",
    "print(sess.run(c))"
   ]
  },
  {
   "cell_type": "markdown",
   "metadata": {},
   "source": [
    "**Expand dimensions**"
   ]
  },
  {
   "cell_type": "code",
   "execution_count": 44,
   "metadata": {
    "collapsed": false
   },
   "outputs": [
    {
     "name": "stdout",
     "output_type": "stream",
     "text": [
      "(2, 2)\n",
      "(1, 2, 2)\n"
     ]
    }
   ],
   "source": [
    "a = tf.constant([[1,2],[3,4]], dtype=tf.int32)\n",
    "\n",
    "# Numpy:\n",
    "# b = np.expand_dims(a, axis=0) # n x c\n",
    "\n",
    "# TensorFlow\n",
    "b = tf.expand_dims(a,dim=0)\n",
    "\n",
    "print(a.get_shape())\n",
    "print(b.get_shape())\n"
   ]
  },
  {
   "cell_type": "markdown",
   "metadata": {},
   "source": [
    "**Maximum**"
   ]
  },
  {
   "cell_type": "code",
   "execution_count": 45,
   "metadata": {
    "collapsed": false
   },
   "outputs": [
    {
     "name": "stdout",
     "output_type": "stream",
     "text": [
      "[2 4]\n"
     ]
    }
   ],
   "source": [
    "a = tf.constant([[1,2],[3,4]], dtype=tf.int32)\n",
    "\n",
    "# Numpy:\n",
    "#b  = np.max(z, axis = 1)\n",
    "\n",
    "# TensorFlow\n",
    "b = tf.reduce_max(a, reduction_indices = 1)\n",
    "\n",
    "print(sess.run(b))"
   ]
  },
  {
   "cell_type": "markdown",
   "metadata": {},
   "source": [
    "**Sum**"
   ]
  },
  {
   "cell_type": "code",
   "execution_count": 42,
   "metadata": {
    "collapsed": false
   },
   "outputs": [
    {
     "name": "stdout",
     "output_type": "stream",
     "text": [
      "[3 7]\n"
     ]
    }
   ],
   "source": [
    "a = tf.constant([[1,2],[3,4]], dtype=tf.int32)\n",
    "\n",
    "# Numpy\n",
    "# b = np.sum(a, axis = 1)\n",
    "    \n",
    "b = tf.reduce_sum(a,reduction_indices=1)\n",
    "\n",
    "print(sess.run(b))"
   ]
  },
  {
   "cell_type": "markdown",
   "metadata": {},
   "source": [
    "**Move axis**"
   ]
  },
  {
   "cell_type": "code",
   "execution_count": 49,
   "metadata": {
    "collapsed": false
   },
   "outputs": [
    {
     "name": "stdout",
     "output_type": "stream",
     "text": [
      "(10, 3, 6, 100)\n"
     ]
    }
   ],
   "source": [
    "# Numpy\n",
    "# a = np.zeros([10,100,3,6]) # shape = (10,100,3,6)\n",
    "# np.moveaxis(a,1,3).shape # shape = (10,3,6,100)\n",
    "\n",
    "# TensorFlow\n",
    "a = tf.zeros((10,100,3,6)) # shape = (10,100,3,6)\n",
    "print(sess.run(tf.transpose(a,[0,2,3,1])).shape) # shape = (10,3,6,100)"
   ]
  },
  {
   "cell_type": "markdown",
   "metadata": {},
   "source": [
    "**Dot**\n",
    "\n",
    "Inner product of matrices."
   ]
  },
  {
   "cell_type": "code",
   "execution_count": 65,
   "metadata": {
    "collapsed": false
   },
   "outputs": [
    {
     "name": "stdout",
     "output_type": "stream",
     "text": [
      "(100, 3, 6)\n"
     ]
    }
   ],
   "source": [
    "# Numpy\n",
    "# A = np.zeros([100,3,6]) # shape = (100,3,6)\n",
    "# B = np.zeros([6,6]) # shape = (6,6)\n",
    "# C = np.dot(A,B) # shape = (100,3,6)\n",
    "\n",
    "def dotTensorFlow(a, b):\n",
    "    shape = tf.shape(a)\n",
    "    rank = shape.get_shape()[0].value\n",
    "    a = tf.expand_dims(a, rank)\n",
    "    ab = tf.mul(a, b)\n",
    "    return tf.reduce_sum(ab, rank-1)\n",
    "\n",
    "\n",
    "A = tf.zeros([100,3,6]) # shape = (100,3,6)\n",
    "B = tf.zeros([6,6]) # shape = (6,6)\n",
    "C = dotTensorFlow(A,B) # shape = (100,3,6)\n",
    "\n",
    "print(sess.run(C).shape) # shape = (10,3,6)\n"
   ]
  },
  {
   "cell_type": "markdown",
   "metadata": {},
   "source": [
    "# Looping"
   ]
  },
  {
   "cell_type": "markdown",
   "metadata": {},
   "source": [
    "Loop that add numbers from 1 to 10 together."
   ]
  },
  {
   "cell_type": "code",
   "execution_count": 34,
   "metadata": {
    "collapsed": false,
    "scrolled": true
   },
   "outputs": [
    {
     "name": "stdout",
     "output_type": "stream",
     "text": [
      "55\n"
     ]
    }
   ],
   "source": [
    "# loop function\n",
    "def body(X,idx,out):\n",
    "    out = tf.add(out,X[idx]) # out = out + X[idx]\n",
    "    idx = idx + 1\n",
    "    return X, idx, out\n",
    "\n",
    "# stoping criterium\n",
    "def condition(X,idx,out):\n",
    "    return tf.less(idx,10)\n",
    "\n",
    "# initializing the input\n",
    "X_in = tf.constant(range(1,11),dtype=tf.int32)\n",
    "idx_in = tf.constant(0,dtype=tf.int32)\n",
    "out_in = tf.constant(0,dtype=tf.int32)\n",
    "\n",
    "with tf.Session():\n",
    "    tf.global_variables_initializer().run()\n",
    "    \n",
    "    # TensorFlow loop\n",
    "    _, _, out_out = tf.while_loop(condition, body, [X_in,idx_in,out_in])\n",
    "    \n",
    "    print(out_out.eval())"
   ]
  },
  {
   "cell_type": "markdown",
   "metadata": {},
   "source": [
    "Creating four 2x2 arrays with random numbers and adding these together to get the cumulative sum of each element."
   ]
  },
  {
   "cell_type": "code",
   "execution_count": 33,
   "metadata": {
    "collapsed": false
   },
   "outputs": [
    {
     "name": "stdout",
     "output_type": "stream",
     "text": [
      "[[ 8  3]\n",
      " [ 7 10]]\n"
     ]
    }
   ],
   "source": [
    "# loop function\n",
    "def body(X,idx,X_cum):\n",
    "    X_cum = tf.add(X_cum,X[:,:,idx])\n",
    "    idx = idx + 1\n",
    "    return X, idx, X_cum\n",
    "\n",
    "# stoping criterium\n",
    "def condition(X,idx,out):\n",
    "    return tf.less(idx,4)\n",
    "\n",
    "# initializing the input\n",
    "X_in = tf.random_uniform([2,2,4], minval=0, maxval=5, dtype=tf.int32)\n",
    "X_cum = tf.constant([[0,0],[0,0]],dtype=tf.int32)\n",
    "idx_in = tf.constant(0,dtype=tf.int32)\n",
    "\n",
    "with tf.Session():\n",
    "    tf.global_variables_initializer().run()\n",
    "    \n",
    "    # TensorFlow loop\n",
    "    _, _, X_cum = tf.while_loop(condition, body, [X_in,idx_in,X_cum])\n",
    "    \n",
    "    print(X_cum.eval())"
   ]
  },
  {
   "cell_type": "markdown",
   "metadata": {},
   "source": [
    "# Conditioning"
   ]
  },
  {
   "cell_type": "markdown",
   "metadata": {},
   "source": [
    "**Conditioning with constants**"
   ]
  },
  {
   "cell_type": "code",
   "execution_count": 42,
   "metadata": {
    "collapsed": false
   },
   "outputs": [
    {
     "name": "stdout",
     "output_type": "stream",
     "text": [
      "8\n"
     ]
    }
   ],
   "source": [
    "i = tf.constant(10, dtype=tf.int32)\n",
    "\n",
    "a = tf.constant(4, dtype=tf.int32)\n",
    "b = tf.constant(8, dtype=tf.int32)\n",
    "\n",
    "y = tf.cond(tf.less(15, i), # 15 < 10\n",
    "            lambda: a, # if TRUE\n",
    "            lambda: b) # if FALSE\n",
    "\n",
    "print(sess.run(y))"
   ]
  },
  {
   "cell_type": "markdown",
   "metadata": {},
   "source": [
    "**Conditioning with functions**"
   ]
  },
  {
   "cell_type": "code",
   "execution_count": 50,
   "metadata": {
    "collapsed": false
   },
   "outputs": [
    {
     "name": "stdout",
     "output_type": "stream",
     "text": [
      "[[28 32]\n",
      " [52 60]]\n"
     ]
    }
   ],
   "source": [
    "i = tf.constant(10, dtype=tf.int32)\n",
    "\n",
    "x = tf.constant([[1,2],[3,4]], dtype=tf.int32)\n",
    "W = tf.constant([[5,6],[7,8]], dtype=tf.int32)\n",
    "b = tf.constant([9,10], dtype=tf.int32)\n",
    "\n",
    "def LM_Plus(data, weights, bias):\n",
    "    y = tf.add(tf.matmul(data, weights),bias) # x*W + b\n",
    "    return y\n",
    "\n",
    "def LM_Minus(data, weights, bias):\n",
    "    y = tf.subtract(tf.matmul(data, weights),bias) # x*W - b\n",
    "    return y\n",
    "\n",
    "pred = tf.cond(tf.greater(i,3), # 10 > 3\n",
    "              lambda: LM_Plus(x,W,b), # if TRUE\n",
    "              lambda: LM_Minus(x,W,b)) # if FALSE\n",
    "\n",
    "print(sess.run(pred))"
   ]
  }
 ],
 "metadata": {
  "kernelspec": {
   "display_name": "Python 2",
   "language": "python",
   "name": "python2"
  },
  "language_info": {
   "codemirror_mode": {
    "name": "ipython",
    "version": 2
   },
   "file_extension": ".py",
   "mimetype": "text/x-python",
   "name": "python",
   "nbconvert_exporter": "python",
   "pygments_lexer": "ipython2",
   "version": "2.7.6"
  }
 },
 "nbformat": 4,
 "nbformat_minor": 2
}
