{
 "cells": [
  {
   "cell_type": "markdown",
   "metadata": {},
   "source": [
    "# Implementing in TensorFlow"
   ]
  },
  {
   "cell_type": "markdown",
   "metadata": {},
   "source": [
    "An introduction to how-to-do-Implementation in TensorFlow with some of the most important functions for Python-users. A full API can be found on the TensorFlow wedside:\n",
    "\n",
    "https://www.tensorflow.org/\n",
    "\n",
    "For installation and complementry knowlegde about how implement Deep Learning networks in TensorFlow I can highly recommend:\n",
    "\n",
    "https://github.com/alrojo/tensorflow-tutorial\n"
   ]
  },
  {
   "cell_type": "code",
   "execution_count": 7,
   "metadata": {
    "collapsed": false
   },
   "outputs": [],
   "source": [
    "import tensorflow as tf\n",
    "from tensorflow.python.framework.ops import reset_default_graph\n",
    "sess = tf.Session() # For printing the output"
   ]
  },
  {
   "cell_type": "markdown",
   "metadata": {},
   "source": [
    "Numbers\n",
    "==="
   ]
  },
  {
   "cell_type": "markdown",
   "metadata": {},
   "source": [
    "$\\textbf{Constants}$"
   ]
  },
  {
   "cell_type": "code",
   "execution_count": 2,
   "metadata": {
    "collapsed": false
   },
   "outputs": [
    {
     "name": "stdout",
     "output_type": "stream",
     "text": [
      "5\n",
      "7.4\n"
     ]
    }
   ],
   "source": [
    "x = tf.constant(5, dtype=tf.int32) # x = 5, int\n",
    "y = tf.constant(7.4, dtype=tf.float32) # y = 7.4, float\n",
    "\n",
    "print(sess.run(x))\n",
    "print(sess.run(y))"
   ]
  },
  {
   "cell_type": "markdown",
   "metadata": {},
   "source": [
    "$\\textbf{Casting}$"
   ]
  },
  {
   "cell_type": "code",
   "execution_count": 3,
   "metadata": {
    "collapsed": false
   },
   "outputs": [
    {
     "name": "stdout",
     "output_type": "stream",
     "text": [
      "5.0\n"
     ]
    }
   ],
   "source": [
    "x = tf.to_float(x) # 5.0 = 5, float\n",
    "\n",
    "print(sess.run(x))"
   ]
  },
  {
   "cell_type": "markdown",
   "metadata": {},
   "source": [
    "$\\textbf{Arithmetric Operation}$"
   ]
  },
  {
   "cell_type": "code",
   "execution_count": 62,
   "metadata": {
    "collapsed": false
   },
   "outputs": [
    {
     "name": "stdout",
     "output_type": "stream",
     "text": [
      "12.4\n",
      "-2.4\n"
     ]
    }
   ],
   "source": [
    "x = tf.constant(5, dtype=tf.float32) # x = 5\n",
    "y = tf.constant(7.4, dtype=tf.float32) # y = 7.4\n",
    "\n",
    "z = tf.add(x,y) # 12.4 = 5 + 7\n",
    "u = tf.subtract(x,y) # -2.4 = 5 - 7\n",
    "\n",
    "print(sess.run(z))\n",
    "print(sess.run(u))"
   ]
  },
  {
   "cell_type": "markdown",
   "metadata": {},
   "source": [
    "$\\textbf{Basic Math Functions}$"
   ]
  },
  {
   "cell_type": "code",
   "execution_count": 66,
   "metadata": {
    "collapsed": false
   },
   "outputs": [
    {
     "name": "stdout",
     "output_type": "stream",
     "text": [
      "-5.0\n",
      "7.0\n",
      "148.413\n"
     ]
    }
   ],
   "source": [
    "x = tf.constant(5, dtype=tf.float32) # x = 5\n",
    "y = tf.constant(7.4, dtype=tf.float32) # y = 7.4\n",
    "\n",
    "z = tf.negative(x) # -5 = negative(5)\n",
    "u = tf.round(y) # 7 = round(7.4)\n",
    "v = tf.exp(x) # 148.413 = exp(5)\n",
    "\n",
    "print(sess.run(z))\n",
    "print(sess.run(u))\n",
    "print(sess.run(v))"
   ]
  },
  {
   "cell_type": "markdown",
   "metadata": {},
   "source": [
    "Array\n",
    "==="
   ]
  },
  {
   "cell_type": "markdown",
   "metadata": {},
   "source": [
    "$\\textbf{Constant Arrays}$"
   ]
  },
  {
   "cell_type": "code",
   "execution_count": 6,
   "metadata": {
    "collapsed": false
   },
   "outputs": [
    {
     "name": "stdout",
     "output_type": "stream",
     "text": [
      "[1 2]\n"
     ]
    }
   ],
   "source": [
    "a = tf.constant([1,2], dtype=tf.int32) # a = [1,2]\n",
    "print(sess.run(a))"
   ]
  },
  {
   "cell_type": "code",
   "execution_count": 7,
   "metadata": {
    "collapsed": false
   },
   "outputs": [
    {
     "name": "stdout",
     "output_type": "stream",
     "text": [
      "[[1 2]\n",
      " [3 4]]\n"
     ]
    }
   ],
   "source": [
    "b = tf.constant([[1,2],[3,4]], dtype=tf.int32) # b = [[1,2],[3,4]]\n",
    "print(sess.run(b))"
   ]
  },
  {
   "cell_type": "code",
   "execution_count": 8,
   "metadata": {
    "collapsed": false,
    "scrolled": true
   },
   "outputs": [
    {
     "name": "stdout",
     "output_type": "stream",
     "text": [
      "[[1 2]\n",
      " [3 4]\n",
      " [5 6]]\n"
     ]
    }
   ],
   "source": [
    "c = tf.constant([[1,2],[3,4],[5,6]], dtype=tf.int32) # c = [[1,2],[3,4],[5,6]]\n",
    "print(sess.run(c))"
   ]
  },
  {
   "cell_type": "code",
   "execution_count": 9,
   "metadata": {
    "collapsed": false
   },
   "outputs": [
    {
     "name": "stdout",
     "output_type": "stream",
     "text": [
      "[[[ 0.  0.  0.]\n",
      "  [ 0.  0.  0.]]\n",
      "\n",
      " [[ 0.  0.  0.]\n",
      "  [ 0.  0.  0.]]]\n"
     ]
    }
   ],
   "source": [
    "d = tf.zeros([2,2,3], dtype=tf.float32) # array containing only zeros of shape [2,2,3]\n",
    "print(sess.run(d))"
   ]
  },
  {
   "cell_type": "code",
   "execution_count": 10,
   "metadata": {
    "collapsed": false
   },
   "outputs": [
    {
     "name": "stdout",
     "output_type": "stream",
     "text": [
      "[[[1 1 1 1]\n",
      "  [1 1 1 1]\n",
      "  [1 1 1 1]]\n",
      "\n",
      " [[1 1 1 1]\n",
      "  [1 1 1 1]\n",
      "  [1 1 1 1]]]\n"
     ]
    }
   ],
   "source": [
    "e = tf.ones([2,3,4], dtype=tf.int32) # array containing only ones of shape [2,3,4]\n",
    "print(sess.run(e))"
   ]
  },
  {
   "cell_type": "code",
   "execution_count": 11,
   "metadata": {
    "collapsed": false
   },
   "outputs": [
    {
     "name": "stdout",
     "output_type": "stream",
     "text": [
      "[[[2 2 2 2]\n",
      "  [2 2 2 2]\n",
      "  [2 2 2 2]]\n",
      "\n",
      " [[2 2 2 2]\n",
      "  [2 2 2 2]\n",
      "  [2 2 2 2]]]\n"
     ]
    }
   ],
   "source": [
    "f = tf.fill([2,3,4], 2) # array containing only twos of shape [2,3,4]\n",
    "print(sess.run(f))"
   ]
  },
  {
   "cell_type": "markdown",
   "metadata": {},
   "source": [
    "$\\textbf{Get Shape}$"
   ]
  },
  {
   "cell_type": "code",
   "execution_count": 67,
   "metadata": {
    "collapsed": false
   },
   "outputs": [
    {
     "data": {
      "text/plain": [
       "TensorShape([Dimension(2), Dimension(3), Dimension(4)])"
      ]
     },
     "execution_count": 67,
     "metadata": {},
     "output_type": "execute_result"
    }
   ],
   "source": [
    "f = tf.fill([2,3,4], 2)\n",
    "\n",
    "f.get_shape() # the shape of a Tensor"
   ]
  },
  {
   "cell_type": "markdown",
   "metadata": {},
   "source": [
    "Random Numbers\n",
    "==="
   ]
  },
  {
   "cell_type": "code",
   "execution_count": 13,
   "metadata": {
    "collapsed": false
   },
   "outputs": [
    {
     "name": "stdout",
     "output_type": "stream",
     "text": [
      "[[ 1.36225629 -1.04141688]\n",
      " [-0.40665796 -0.67176461]]\n"
     ]
    }
   ],
   "source": [
    "g = tf.random_normal([2,2], mean=0, stddev=1)\n",
    "# number from random standard normal distribution\n",
    "\n",
    "print(sess.run(g))"
   ]
  },
  {
   "cell_type": "code",
   "execution_count": 14,
   "metadata": {
    "collapsed": false
   },
   "outputs": [
    {
     "name": "stdout",
     "output_type": "stream",
     "text": [
      "[[[1 3]\n",
      "  [4 4]]\n",
      "\n",
      " [[2 4]\n",
      "  [4 2]]]\n"
     ]
    }
   ],
   "source": [
    "h = tf.random_uniform([2,2,2], minval=0, maxval=5, dtype=tf.int32) \n",
    "# random uniform distribution between [0, 5) and shape [2,2,2]\n",
    "\n",
    "print(sess.run(h))"
   ]
  },
  {
   "cell_type": "code",
   "execution_count": 15,
   "metadata": {
    "collapsed": false
   },
   "outputs": [
    {
     "name": "stdout",
     "output_type": "stream",
     "text": [
      "[[4 0]\n",
      " [3 4]]\n"
     ]
    }
   ],
   "source": [
    "h = tf.random_uniform([2,2], minval=0, maxval=5, dtype=tf.int32, seed=1234)\n",
    "# random uniform distribution between [0, 5) with seed\n",
    "\n",
    "print(sess.run(h))"
   ]
  },
  {
   "cell_type": "markdown",
   "metadata": {},
   "source": [
    "Array Indexing\n",
    "==="
   ]
  },
  {
   "cell_type": "markdown",
   "metadata": {},
   "source": [
    "This follow the exact index as in Numpy"
   ]
  },
  {
   "cell_type": "code",
   "execution_count": 16,
   "metadata": {
    "collapsed": false
   },
   "outputs": [
    {
     "name": "stdout",
     "output_type": "stream",
     "text": [
      "[[ 1  2  3  4]\n",
      " [ 5  6  7  8]\n",
      " [ 9 10 11 12]]\n"
     ]
    }
   ],
   "source": [
    "index_array = tf.constant([[1,2,3,4],[5,6,7,8],[9,10,11,12]], dtype=tf.int32)\n",
    "print(sess.run(index_array))"
   ]
  },
  {
   "cell_type": "code",
   "execution_count": 17,
   "metadata": {
    "collapsed": false
   },
   "outputs": [
    {
     "name": "stdout",
     "output_type": "stream",
     "text": [
      "[5 6 7 8]\n"
     ]
    }
   ],
   "source": [
    "print(sess.run(index_array[1,:])) # second row of the index matrix"
   ]
  },
  {
   "cell_type": "code",
   "execution_count": 18,
   "metadata": {
    "collapsed": false
   },
   "outputs": [
    {
     "name": "stdout",
     "output_type": "stream",
     "text": [
      "[ 2  6 10]\n"
     ]
    }
   ],
   "source": [
    "print(sess.run(index_array[:,1])) # second column af the index matrix"
   ]
  },
  {
   "cell_type": "code",
   "execution_count": 19,
   "metadata": {
    "collapsed": false
   },
   "outputs": [
    {
     "name": "stdout",
     "output_type": "stream",
     "text": [
      "[1 2]\n"
     ]
    }
   ],
   "source": [
    "print(sess.run(index_array[0,0:2])) # second column af the index matrix"
   ]
  },
  {
   "cell_type": "markdown",
   "metadata": {},
   "source": [
    "Working with Arrays\n",
    "==="
   ]
  },
  {
   "cell_type": "markdown",
   "metadata": {},
   "source": [
    "Transpose"
   ]
  },
  {
   "cell_type": "code",
   "execution_count": 58,
   "metadata": {
    "collapsed": false
   },
   "outputs": [
    {
     "name": "stdout",
     "output_type": "stream",
     "text": [
      "A\n",
      "[[1 2]\n",
      " [3 4]]\n",
      "A Transposed\n",
      "[[1 3]\n",
      " [2 4]]\n"
     ]
    }
   ],
   "source": [
    "A = tf.constant([[1,2],[3,4]], dtype=tf.int32)\n",
    "\n",
    "A_Transpose = tf.transpose(a)\n",
    "\n",
    "print(\"A\")\n",
    "print(sess.run(a))\n",
    "print(\"A Transposed\")\n",
    "print(sess.run(a_Transpose))"
   ]
  },
  {
   "cell_type": "markdown",
   "metadata": {},
   "source": [
    "Multiply Matrices"
   ]
  },
  {
   "cell_type": "code",
   "execution_count": 60,
   "metadata": {
    "collapsed": false
   },
   "outputs": [
    {
     "name": "stdout",
     "output_type": "stream",
     "text": [
      "[[19 22]\n",
      " [43 50]]\n"
     ]
    }
   ],
   "source": [
    "a = tf.constant([[1,2],[3,4]],dtype=tf.int32)\n",
    "b = tf.constant([[5,6],[7,8]],dtype=tf.int32)\n",
    "\n",
    "c = tf.matmul(a,b) # c = a*b\n",
    "\n",
    "print(sess.run(c))"
   ]
  },
  {
   "cell_type": "markdown",
   "metadata": {},
   "source": [
    "Expand dimensions"
   ]
  },
  {
   "cell_type": "code",
   "execution_count": 68,
   "metadata": {
    "collapsed": false
   },
   "outputs": [
    {
     "name": "stdout",
     "output_type": "stream",
     "text": [
      "[[[1 2]]\n",
      "\n",
      " [[3 4]]]\n"
     ]
    }
   ],
   "source": [
    "a = tf.constant([[1,2],[3,4]], dtype=tf.int32)\n",
    "\n",
    "# Numpy:\n",
    "# b = np.expand_dims(a, axis=1) # n x c\n",
    "\n",
    "# TensorFlow\n",
    "b = tf.expand_dims(a, axis = 1)\n",
    "\n",
    "print(sess.run(b))"
   ]
  },
  {
   "cell_type": "markdown",
   "metadata": {},
   "source": [
    "Maximum"
   ]
  },
  {
   "cell_type": "code",
   "execution_count": 72,
   "metadata": {
    "collapsed": false
   },
   "outputs": [
    {
     "name": "stdout",
     "output_type": "stream",
     "text": [
      "[2 4]\n"
     ]
    }
   ],
   "source": [
    "a = tf.constant([[1,2],[3,4]], dtype=tf.int32)\n",
    "\n",
    "# Numpy:\n",
    "#b  = np.max(z, axis = 1)\n",
    "\n",
    "# TensorFlow\n",
    "b = tf.reduce_max(a, reduction_indices = 1)\n",
    "\n",
    "print(sess.run(b))"
   ]
  },
  {
   "cell_type": "markdown",
   "metadata": {},
   "source": [
    "Sum"
   ]
  },
  {
   "cell_type": "code",
   "execution_count": 73,
   "metadata": {
    "collapsed": false
   },
   "outputs": [
    {
     "name": "stdout",
     "output_type": "stream",
     "text": [
      "[3 7]\n"
     ]
    }
   ],
   "source": [
    "a = tf.constant([[1,2],[3,4]], dtype=tf.int32)\n",
    "\n",
    "# Numpy\n",
    "# b = np.sum(a, axis = 1)\n",
    "    \n",
    "b = tf.reduce_sum(a, axis = 1)\n",
    "\n",
    "print(sess.run(b))"
   ]
  },
  {
   "cell_type": "markdown",
   "metadata": {},
   "source": [
    "Move axis"
   ]
  },
  {
   "cell_type": "code",
   "execution_count": 5,
   "metadata": {
    "collapsed": false
   },
   "outputs": [
    {
     "data": {
      "text/plain": [
       "<tf.Tensor 'transpose:0' shape=(10, 3, 6, 100) dtype=float32>"
      ]
     },
     "execution_count": 5,
     "metadata": {},
     "output_type": "execute_result"
    }
   ],
   "source": [
    "# Numpy\n",
    "# a = np.zeros([10,100,3,6]) # shape = (10,100,3,6)\n",
    "# np.moveaxis(a,1,3).shape # shape = (10,3,6,100)\n",
    "\n",
    "# TensorFlow\n",
    "a = tf.zeros((10,100,3,6)) # shape = (10,100,3,6)\n",
    "tf.transpose(a,[0,2,3,1]) # shape = (10,3,6,100)"
   ]
  },
  {
   "cell_type": "markdown",
   "metadata": {},
   "source": [
    "# Looping"
   ]
  },
  {
   "cell_type": "markdown",
   "metadata": {},
   "source": [
    "Loop that add numbers from 1 to 10 together."
   ]
  },
  {
   "cell_type": "code",
   "execution_count": 34,
   "metadata": {
    "collapsed": false,
    "scrolled": true
   },
   "outputs": [
    {
     "name": "stdout",
     "output_type": "stream",
     "text": [
      "55\n"
     ]
    }
   ],
   "source": [
    "# loop function\n",
    "def body(X,idx,out):\n",
    "    out = tf.add(out,X[idx]) # out = out + X[idx]\n",
    "    idx = idx + 1\n",
    "    return X, idx, out\n",
    "\n",
    "# stoping criterium\n",
    "def condition(X,idx,out):\n",
    "    return tf.less(idx,10)\n",
    "\n",
    "# initializing the input\n",
    "X_in = tf.constant(range(1,11),dtype=tf.int32)\n",
    "idx_in = tf.constant(0,dtype=tf.int32)\n",
    "out_in = tf.constant(0,dtype=tf.int32)\n",
    "\n",
    "with tf.Session():\n",
    "    tf.global_variables_initializer().run()\n",
    "    \n",
    "    # TensorFlow loop\n",
    "    _, _, out_out = tf.while_loop(condition, body, [X_in,idx_in,out_in])\n",
    "    \n",
    "    print(out_out.eval())"
   ]
  },
  {
   "cell_type": "markdown",
   "metadata": {},
   "source": [
    "Creating four 2x2 arrays with random numbers and adding these together to get the cumulative sum of each element."
   ]
  },
  {
   "cell_type": "code",
   "execution_count": 33,
   "metadata": {
    "collapsed": false
   },
   "outputs": [
    {
     "name": "stdout",
     "output_type": "stream",
     "text": [
      "[[ 8  3]\n",
      " [ 7 10]]\n"
     ]
    }
   ],
   "source": [
    "# loop function\n",
    "def body(X,idx,X_cum):\n",
    "    X_cum = tf.add(X_cum,X[:,:,idx])\n",
    "    idx = idx + 1\n",
    "    return X, idx, X_cum\n",
    "\n",
    "# stoping criterium\n",
    "def condition(X,idx,out):\n",
    "    return tf.less(idx,4)\n",
    "\n",
    "# initializing the input\n",
    "X_in = tf.random_uniform([2,2,4], minval=0, maxval=5, dtype=tf.int32)\n",
    "X_cum = tf.constant([[0,0],[0,0]],dtype=tf.int32)\n",
    "idx_in = tf.constant(0,dtype=tf.int32)\n",
    "\n",
    "with tf.Session():\n",
    "    tf.global_variables_initializer().run()\n",
    "    \n",
    "    # TensorFlow loop\n",
    "    _, _, X_cum = tf.while_loop(condition, body, [X_in,idx_in,X_cum])\n",
    "    \n",
    "    print(X_cum.eval())"
   ]
  },
  {
   "cell_type": "markdown",
   "metadata": {},
   "source": [
    "# Conditioning"
   ]
  },
  {
   "cell_type": "markdown",
   "metadata": {},
   "source": [
    "Conditioning with constants."
   ]
  },
  {
   "cell_type": "code",
   "execution_count": 42,
   "metadata": {
    "collapsed": false
   },
   "outputs": [
    {
     "name": "stdout",
     "output_type": "stream",
     "text": [
      "8\n"
     ]
    }
   ],
   "source": [
    "i = tf.constant(10, dtype=tf.int32)\n",
    "\n",
    "a = tf.constant(4, dtype=tf.int32)\n",
    "b = tf.constant(8, dtype=tf.int32)\n",
    "\n",
    "y = tf.cond(tf.less(15, i), # 15 < 10\n",
    "            lambda: a, # if TRUE\n",
    "            lambda: b) # if FALSE\n",
    "\n",
    "print(sess.run(y))"
   ]
  },
  {
   "cell_type": "markdown",
   "metadata": {},
   "source": [
    "Conditioning with functions."
   ]
  },
  {
   "cell_type": "code",
   "execution_count": 50,
   "metadata": {
    "collapsed": false
   },
   "outputs": [
    {
     "name": "stdout",
     "output_type": "stream",
     "text": [
      "[[28 32]\n",
      " [52 60]]\n"
     ]
    }
   ],
   "source": [
    "i = tf.constant(10, dtype=tf.int32)\n",
    "\n",
    "x = tf.constant([[1,2],[3,4]], dtype=tf.int32)\n",
    "W = tf.constant([[5,6],[7,8]], dtype=tf.int32)\n",
    "b = tf.constant([9,10], dtype=tf.int32)\n",
    "\n",
    "def LM_Plus(data, weights, bias):\n",
    "    y = tf.add(tf.matmul(data, weights),bias) # x*W + b\n",
    "    return y\n",
    "\n",
    "def LM_Minus(data, weights, bias):\n",
    "    y = tf.subtract(tf.matmul(data, weights),bias) # x*W - b\n",
    "    return y\n",
    "\n",
    "pred = tf.cond(tf.greater(i,3), # 10 > 3\n",
    "              lambda: LM_Plus(x,W,b), # if TRUE\n",
    "              lambda: LM_Minus(x,W,b)) # if FALSE\n",
    "\n",
    "print(sess.run(pred))"
   ]
  },
  {
   "cell_type": "markdown",
   "metadata": {},
   "source": [
    "# Training a Simple Linear Model on random generated data"
   ]
  },
  {
   "cell_type": "code",
   "execution_count": 106,
   "metadata": {
    "collapsed": false
   },
   "outputs": [
    {
     "name": "stdout",
     "output_type": "stream",
     "text": [
      "WARNING:tensorflow:From <ipython-input-106-dfd4e3f45e9c>:32 in <module>.: initialize_all_variables (from tensorflow.python.ops.variables) is deprecated and will be removed after 2017-03-02.\n",
      "Instructions for updating:\n",
      "Use `tf.global_variables_initializer` instead.\n"
     ]
    },
    {
     "ename": "TypeError",
     "evalue": "The value of a feed cannot be a tf.Tensor object. Acceptable feed values include Python scalars, strings, lists, or numpy ndarrays.",
     "output_type": "error",
     "traceback": [
      "\u001b[0;31m---------------------------------------------------------------------------\u001b[0m",
      "\u001b[0;31mTypeError\u001b[0m                                 Traceback (most recent call last)",
      "\u001b[0;32m<ipython-input-106-dfd4e3f45e9c>\u001b[0m in \u001b[0;36m<module>\u001b[0;34m()\u001b[0m\n\u001b[1;32m     46\u001b[0m \u001b[0mfeed_dict_train\u001b[0m \u001b[0;34m=\u001b[0m \u001b[0;34m{\u001b[0m\u001b[0mx_pl\u001b[0m\u001b[0;34m:\u001b[0m \u001b[0mx_train\u001b[0m\u001b[0;34m,\u001b[0m \u001b[0my_pl\u001b[0m\u001b[0;34m:\u001b[0m \u001b[0my_train\u001b[0m\u001b[0;34m}\u001b[0m\u001b[0;34m\u001b[0m\u001b[0m\n\u001b[1;32m     47\u001b[0m \u001b[0mfetches_train\u001b[0m \u001b[0;34m=\u001b[0m \u001b[0;34m[\u001b[0m\u001b[0moptimizer\u001b[0m\u001b[0;34m,\u001b[0m \u001b[0mcross_entropy\u001b[0m\u001b[0;34m]\u001b[0m\u001b[0;34m\u001b[0m\u001b[0m\n\u001b[0;32m---> 48\u001b[0;31m \u001b[0mres\u001b[0m \u001b[0;34m=\u001b[0m \u001b[0msess\u001b[0m\u001b[0;34m.\u001b[0m\u001b[0mrun\u001b[0m\u001b[0;34m(\u001b[0m\u001b[0mfetches\u001b[0m\u001b[0;34m=\u001b[0m\u001b[0mfetches_train\u001b[0m\u001b[0;34m,\u001b[0m \u001b[0mfeed_dict\u001b[0m\u001b[0;34m=\u001b[0m\u001b[0mfeed_dict_train\u001b[0m\u001b[0;34m)\u001b[0m\u001b[0;34m\u001b[0m\u001b[0m\n\u001b[0m\u001b[1;32m     49\u001b[0m \u001b[0mtrain_cost\u001b[0m \u001b[0;34m=\u001b[0m\u001b[0mres\u001b[0m\u001b[0;34m[\u001b[0m\u001b[0;36m1\u001b[0m\u001b[0;34m]\u001b[0m\u001b[0;34m\u001b[0m\u001b[0m\n\u001b[1;32m     50\u001b[0m \u001b[0;34m\u001b[0m\u001b[0m\n",
      "\u001b[0;32m/usr/local/lib/python2.7/dist-packages/tensorflow/python/client/session.pyc\u001b[0m in \u001b[0;36mrun\u001b[0;34m(self, fetches, feed_dict, options, run_metadata)\u001b[0m\n\u001b[1;32m    764\u001b[0m     \u001b[0;32mtry\u001b[0m\u001b[0;34m:\u001b[0m\u001b[0;34m\u001b[0m\u001b[0m\n\u001b[1;32m    765\u001b[0m       result = self._run(None, fetches, feed_dict, options_ptr,\n\u001b[0;32m--> 766\u001b[0;31m                          run_metadata_ptr)\n\u001b[0m\u001b[1;32m    767\u001b[0m       \u001b[0;32mif\u001b[0m \u001b[0mrun_metadata\u001b[0m\u001b[0;34m:\u001b[0m\u001b[0;34m\u001b[0m\u001b[0m\n\u001b[1;32m    768\u001b[0m         \u001b[0mproto_data\u001b[0m \u001b[0;34m=\u001b[0m \u001b[0mtf_session\u001b[0m\u001b[0;34m.\u001b[0m\u001b[0mTF_GetBuffer\u001b[0m\u001b[0;34m(\u001b[0m\u001b[0mrun_metadata_ptr\u001b[0m\u001b[0;34m)\u001b[0m\u001b[0;34m\u001b[0m\u001b[0m\n",
      "\u001b[0;32m/usr/local/lib/python2.7/dist-packages/tensorflow/python/client/session.pyc\u001b[0m in \u001b[0;36m_run\u001b[0;34m(self, handle, fetches, feed_dict, options, run_metadata)\u001b[0m\n\u001b[1;32m    922\u001b[0m \u001b[0;34m\u001b[0m\u001b[0m\n\u001b[1;32m    923\u001b[0m           \u001b[0;32mif\u001b[0m \u001b[0misinstance\u001b[0m\u001b[0;34m(\u001b[0m\u001b[0msubfeed_val\u001b[0m\u001b[0;34m,\u001b[0m \u001b[0mops\u001b[0m\u001b[0;34m.\u001b[0m\u001b[0mTensor\u001b[0m\u001b[0;34m)\u001b[0m\u001b[0;34m:\u001b[0m\u001b[0;34m\u001b[0m\u001b[0m\n\u001b[0;32m--> 924\u001b[0;31m             raise TypeError('The value of a feed cannot be a tf.Tensor object. '\n\u001b[0m\u001b[1;32m    925\u001b[0m                             \u001b[0;34m'Acceptable feed values include Python scalars, '\u001b[0m\u001b[0;34m\u001b[0m\u001b[0m\n\u001b[1;32m    926\u001b[0m                             'strings, lists, or numpy ndarrays.')\n",
      "\u001b[0;31mTypeError\u001b[0m: The value of a feed cannot be a tf.Tensor object. Acceptable feed values include Python scalars, strings, lists, or numpy ndarrays."
     ]
    }
   ],
   "source": [
    "reset_default_graph()\n",
    "\n",
    "sess = tf.Session()\n",
    "\n",
    "# generate 100 training points\n",
    "x_train = tf.random_uniform(shape=[100,3],minval=2,maxval=6)\n",
    "y_train = tf.random_uniform(shape=[100,2],minval=0,maxval=1,dtype=tf.int32)\n",
    "\n",
    "# generate 10 validation points\n",
    "x_valid = tf.random_uniform(shape=[10,3],minval=1,maxval=6)\n",
    "y_valid = tf.random_uniform(shape=[10,2],minval=0,maxval=1, dtype=tf.int32)\n",
    "\n",
    "# initializing Weights and Biases\n",
    "\n",
    "weight_initializer = tf.truncated_normal_initializer(stddev=0.1)\n",
    "Weight = tf.get_variable('Weights',[3, 2],initializer=weight_initializer)\n",
    "Bias = tf.get_variable('Bias',[2],initializer=tf.constant_initializer(0.0))\n",
    "\n",
    "\n",
    "\n",
    "\n",
    "#Weight = tf.truncated_normal([3,2], stddev=0.1, dtype=tf.float32)\n",
    "#Bias = tf.constant(0.1, shape=[2], dtype=tf.float32)\n",
    "\n",
    "# Placeholder for input and output\n",
    "x_pl = tf.placeholder(tf.float32, [None, 3])\n",
    "y_pl = tf.placeholder(tf.float32, [None, 2])\n",
    "\n",
    "# Making the model\n",
    "y_pred = tf.matmul(x_pl,Weight) + Bias\n",
    "\n",
    "init = tf.initialize_all_variables()\n",
    "sess.run(init)    \n",
    "\n",
    "# Cost Function\n",
    "cross_entropy = tf.reduce_mean(-tf.reduce_sum(y_pl * tf.log(y_pred), reduction_indices=[1]))\n",
    "\n",
    "# Optimizer - minimizing the cross entropy\n",
    "optimizer = tf.train.AdamOptimizer(learning_rate=0.25).minimize(cross_entropy)\n",
    "\n",
    "# Accuracy\n",
    "correct_prediction = tf.equal(tf.argmax(y_pl, 1), tf.argmax(y_pred, 1))\n",
    "accuracy = tf.reduce_mean(tf.cast(correct_prediction, tf.float32))\n",
    "\n",
    "# Training our model\n",
    "feed_dict_train = {x_pl: x_train, y_pl: y_train}\n",
    "fetches_train = [optimizer, cross_entropy]\n",
    "res = sess.run(fetches=fetches_train, feed_dict=feed_dict_train)\n",
    "train_cost =res[1]\n",
    "    \n",
    "feed_dict_valid = {x_pl: x_valid, y_pl: y_valid}\n",
    "\n",
    "fetches_valid = [cross_entropy, accuracy]\n",
    "res = sess.run(fetches=fetches_valid, feed_dict=feed_dict_valid)\n",
    "\n",
    "val_cost = res[0]\n",
    "val_acc = res[1]\n",
    "\n",
    "\n",
    "\n",
    "\n"
   ]
  },
  {
   "cell_type": "code",
   "execution_count": 94,
   "metadata": {
    "collapsed": false
   },
   "outputs": [
    {
     "data": {
      "text/plain": [
       "<tf.Tensor 'ToDouble_1:0' shape=(10, 2, 2) dtype=float64>"
      ]
     },
     "execution_count": 94,
     "metadata": {},
     "output_type": "execute_result"
    }
   ],
   "source": [
    "y_test"
   ]
  },
  {
   "cell_type": "code",
   "execution_count": null,
   "metadata": {
    "collapsed": true
   },
   "outputs": [],
   "source": []
  }
 ],
 "metadata": {
  "kernelspec": {
   "display_name": "Python 2",
   "language": "python",
   "name": "python2"
  },
  "language_info": {
   "codemirror_mode": {
    "name": "ipython",
    "version": 2
   },
   "file_extension": ".py",
   "mimetype": "text/x-python",
   "name": "python",
   "nbconvert_exporter": "python",
   "pygments_lexer": "ipython2",
   "version": "2.7.6"
  }
 },
 "nbformat": 4,
 "nbformat_minor": 2
}
